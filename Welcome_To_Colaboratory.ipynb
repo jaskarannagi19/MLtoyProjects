{
  "nbformat": 4,
  "nbformat_minor": 0,
  "metadata": {
    "colab": {
      "name": "Welcome To Colaboratory",
      "provenance": [],
      "collapsed_sections": [],
      "toc_visible": true,
      "include_colab_link": true
    },
    "kernelspec": {
      "display_name": "Python 3",
      "name": "python3"
    }
  },
  "cells": [
    {
      "cell_type": "markdown",
      "metadata": {
        "id": "view-in-github",
        "colab_type": "text"
      },
      "source": [
        "<a href=\"https://colab.research.google.com/github/jaskarannagi19/MLtoyProjects/blob/master/Welcome_To_Colaboratory.ipynb\" target=\"_parent\"><img src=\"https://colab.research.google.com/assets/colab-badge.svg\" alt=\"Open In Colab\"/></a>"
      ]
    },
    {
      "cell_type": "code",
      "metadata": {
        "id": "bHIZW7H_q1XG",
        "colab_type": "code",
        "colab": {}
      },
      "source": [
        "#import all libraries here\n",
        "import pandas as pd\n",
        "from sklearn.model_selection import train_test_split\n",
        "from sklearn.naive_bayes import GaussianNB"
      ],
      "execution_count": 0,
      "outputs": []
    },
    {
      "cell_type": "code",
      "metadata": {
        "id": "nIm7qNOLq2Tt",
        "colab_type": "code",
        "colab": {}
      },
      "source": [
        "df = pd.read_csv(\"Classifier.csv\")"
      ],
      "execution_count": 0,
      "outputs": []
    },
    {
      "cell_type": "code",
      "metadata": {
        "id": "vyr5_l9UrGGO",
        "colab_type": "code",
        "colab": {}
      },
      "source": [
        "#Data pre processing delete unnamed columns\n",
        "df = df.loc[:, ~df.columns.str.contains('^Unnamed')] "
      ],
      "execution_count": 0,
      "outputs": []
    },
    {
      "cell_type": "code",
      "metadata": {
        "id": "ucQW_7zjrvPX",
        "colab_type": "code",
        "outputId": "2653e4af-3355-4086-adbf-c743c4c0c1f4",
        "colab": {
          "base_uri": "https://localhost:8080/",
          "height": 195
        }
      },
      "source": [
        "#print first 5 rows\n",
        "df.head()"
      ],
      "execution_count": 4,
      "outputs": [
        {
          "output_type": "execute_result",
          "data": {
            "text/html": [
              "<div>\n",
              "<style scoped>\n",
              "    .dataframe tbody tr th:only-of-type {\n",
              "        vertical-align: middle;\n",
              "    }\n",
              "\n",
              "    .dataframe tbody tr th {\n",
              "        vertical-align: top;\n",
              "    }\n",
              "\n",
              "    .dataframe thead th {\n",
              "        text-align: right;\n",
              "    }\n",
              "</style>\n",
              "<table border=\"1\" class=\"dataframe\">\n",
              "  <thead>\n",
              "    <tr style=\"text-align: right;\">\n",
              "      <th></th>\n",
              "      <th>Serial No</th>\n",
              "      <th>Paper Title</th>\n",
              "      <th>Level Of Paper</th>\n",
              "    </tr>\n",
              "  </thead>\n",
              "  <tbody>\n",
              "    <tr>\n",
              "      <th>0</th>\n",
              "      <td>1.0</td>\n",
              "      <td>Recommender systems: introduction and challenges</td>\n",
              "      <td>Beginner</td>\n",
              "    </tr>\n",
              "    <tr>\n",
              "      <th>1</th>\n",
              "      <td>2.0</td>\n",
              "      <td>Research paper recommender system evaluation: ...</td>\n",
              "      <td>Beginner</td>\n",
              "    </tr>\n",
              "    <tr>\n",
              "      <th>2</th>\n",
              "      <td>3.0</td>\n",
              "      <td>Research paper recommender systems: A subspace...</td>\n",
              "      <td>Expert</td>\n",
              "    </tr>\n",
              "    <tr>\n",
              "      <th>3</th>\n",
              "      <td>4.0</td>\n",
              "      <td>A survey paper on recommender systems</td>\n",
              "      <td>Beginner</td>\n",
              "    </tr>\n",
              "    <tr>\n",
              "      <th>4</th>\n",
              "      <td>5.0</td>\n",
              "      <td>Research paper recommender systems: A random-w...</td>\n",
              "      <td>Expert</td>\n",
              "    </tr>\n",
              "  </tbody>\n",
              "</table>\n",
              "</div>"
            ],
            "text/plain": [
              "   Serial No                                        Paper Title Level Of Paper\n",
              "0        1.0   Recommender systems: introduction and challenges       Beginner\n",
              "1        2.0  Research paper recommender system evaluation: ...       Beginner\n",
              "2        3.0  Research paper recommender systems: A subspace...         Expert\n",
              "3        4.0              A survey paper on recommender systems       Beginner\n",
              "4        5.0  Research paper recommender systems: A random-w...         Expert"
            ]
          },
          "metadata": {
            "tags": []
          },
          "execution_count": 4
        }
      ]
    },
    {
      "cell_type": "code",
      "metadata": {
        "id": "h9pJOnMWsifV",
        "colab_type": "code",
        "colab": {}
      },
      "source": [
        "y = df['Level Of Paper']"
      ],
      "execution_count": 0,
      "outputs": []
    },
    {
      "cell_type": "code",
      "metadata": {
        "id": "SZ68DGC-snBs",
        "colab_type": "code",
        "outputId": "a293e9dd-47ca-45fd-c1af-1e8129840f67",
        "colab": {
          "base_uri": "https://localhost:8080/",
          "height": 118
        }
      },
      "source": [
        "y.head()"
      ],
      "execution_count": 6,
      "outputs": [
        {
          "output_type": "execute_result",
          "data": {
            "text/plain": [
              "0    Beginner\n",
              "1    Beginner\n",
              "2      Expert\n",
              "3    Beginner\n",
              "4      Expert\n",
              "Name: Level Of Paper, dtype: object"
            ]
          },
          "metadata": {
            "tags": []
          },
          "execution_count": 6
        }
      ]
    },
    {
      "cell_type": "code",
      "metadata": {
        "id": "f9wz0miWsplc",
        "colab_type": "code",
        "colab": {}
      },
      "source": [
        "X = df['Paper Title']"
      ],
      "execution_count": 0,
      "outputs": []
    },
    {
      "cell_type": "code",
      "metadata": {
        "id": "Z-FUdbmasuXW",
        "colab_type": "code",
        "outputId": "1a894f4f-38e5-4828-db67-031f5e3b9125",
        "colab": {
          "base_uri": "https://localhost:8080/",
          "height": 118
        }
      },
      "source": [
        "X.head()"
      ],
      "execution_count": 8,
      "outputs": [
        {
          "output_type": "execute_result",
          "data": {
            "text/plain": [
              "0     Recommender systems: introduction and challenges\n",
              "1    Research paper recommender system evaluation: ...\n",
              "2    Research paper recommender systems: A subspace...\n",
              "3                A survey paper on recommender systems\n",
              "4    Research paper recommender systems: A random-w...\n",
              "Name: Paper Title, dtype: object"
            ]
          },
          "metadata": {
            "tags": []
          },
          "execution_count": 8
        }
      ]
    },
    {
      "cell_type": "code",
      "metadata": {
        "id": "J8GirjC2yw_N",
        "colab_type": "code",
        "colab": {}
      },
      "source": [
        "from sklearn.model_selection import train_test_split\n",
        "from sklearn.feature_extraction.text import CountVectorizer\n",
        "from sklearn.feature_extraction.text import TfidfTransformer\n",
        "from sklearn.naive_bayes import MultinomialNB\n",
        "\n",
        "X_train, X_test, y_train, y_test = train_test_split(X, y, random_state = 0)\n",
        "count_vect = CountVectorizer()\n",
        "X_train_counts = count_vect.fit_transform(X_train)\n",
        "tfidf_transformer = TfidfTransformer()\n",
        "X_train_tfidf = tfidf_transformer.fit_transform(X_train_counts)\n",
        "clf = MultinomialNB().fit(X_train_tfidf, y_train)"
      ],
      "execution_count": 0,
      "outputs": []
    },
    {
      "cell_type": "code",
      "metadata": {
        "id": "drbVnxr1zqvj",
        "colab_type": "code",
        "outputId": "85671b3d-4f08-4627-c5d7-fbb06a80637c",
        "colab": {
          "base_uri": "https://localhost:8080/",
          "height": 34
        }
      },
      "source": [
        "print(clf.predict(count_vect.transform([\"Introduction to Neural Networks\"])))"
      ],
      "execution_count": 10,
      "outputs": [
        {
          "output_type": "stream",
          "text": [
            "['Beginner']\n"
          ],
          "name": "stdout"
        }
      ]
    },
    {
      "cell_type": "code",
      "metadata": {
        "id": "x3v_zwDA0UnJ",
        "colab_type": "code",
        "colab": {}
      },
      "source": [
        "y_pred=clf.predict(count_vect.transform(X_test))"
      ],
      "execution_count": 0,
      "outputs": []
    },
    {
      "cell_type": "code",
      "metadata": {
        "id": "4dPqxyly1GLA",
        "colab_type": "code",
        "outputId": "c83ea11e-e7e7-4bb7-e1e1-4a0c8f329c46",
        "colab": {
          "base_uri": "https://localhost:8080/",
          "height": 218
        }
      },
      "source": [
        "X_test"
      ],
      "execution_count": 12,
      "outputs": [
        {
          "output_type": "execute_result",
          "data": {
            "text/plain": [
              "132                     Image data compression: A review\n",
              "309         Digital image processing and computer vision\n",
              "334                Fuzzy sets, fuzzy logic, applications\n",
              "196    Some computer science issues in ubiquitous com...\n",
              "246                               Database access system\n",
              "                             ...                        \n",
              "146                    Cryptography: theory and practice\n",
              "135    A survey on data compression in wireless senso...\n",
              "389    Metrics and models in software quality enginee...\n",
              "264          An introduction to digital image processing\n",
              "363    Uses of Agent‐Based Modeling in Innovation/New...\n",
              "Name: Paper Title, Length: 100, dtype: object"
            ]
          },
          "metadata": {
            "tags": []
          },
          "execution_count": 12
        }
      ]
    },
    {
      "cell_type": "code",
      "metadata": {
        "id": "mAMO0DaT1JWW",
        "colab_type": "code",
        "outputId": "e95c65a1-7910-4f21-ae4b-376f1e2b8cf4",
        "colab": {
          "base_uri": "https://localhost:8080/",
          "height": 34
        }
      },
      "source": [
        "from sklearn.metrics import accuracy_score\n",
        "accuracy_score(y_test, y_pred)"
      ],
      "execution_count": 13,
      "outputs": [
        {
          "output_type": "execute_result",
          "data": {
            "text/plain": [
              "0.43"
            ]
          },
          "metadata": {
            "tags": []
          },
          "execution_count": 13
        }
      ]
    },
    {
      "cell_type": "code",
      "metadata": {
        "id": "W_O8hz85zDMa",
        "colab_type": "code",
        "colab": {}
      },
      "source": [
        ""
      ],
      "execution_count": 0,
      "outputs": []
    }
  ]
}